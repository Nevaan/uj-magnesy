{
 "cells": [
  {
   "cell_type": "code",
   "execution_count": null,
   "id": "80940e3b",
   "metadata": {},
   "outputs": [],
   "source": [
    "filename = \"accept-0.0.csv\"\n",
    "\n",
    "import matplotlib.pyplot as plt\n",
    "import csv\n",
    "  \n",
    "x = []\n",
    "y = []\n",
    "  \n",
    "with open(filename,'r') as csvfile:\n",
    "    lines = csv.reader(csvfile, delimiter=',')\n",
    "    for row in lines:\n",
    "        x.append(row[0])\n",
    "        y.append(float(row[1]))\n",
    "        print row[0]\n",
    "\n",
    "plt.plot(x, y, color = 'g', linestyle = 'dashed',\n",
    "         marker = 'o',label = \"AcceptMagnets\")\n",
    "  \n",
    "plt.xticks(rotation = 25)\n",
    "plt.xlabel('step')\n",
    "plt.ylabel('acceptRatio')\n",
    "plt.title('Accept magnets', fontsize = 20)\n",
    "plt.grid()\n",
    "plt.legend()\n",
    "plt.show()"
   ]
  },
  {
   "cell_type": "code",
   "execution_count": null,
   "id": "ad9cafff",
   "metadata": {},
   "outputs": [],
   "source": [
    "def plotAccept(filename):\n",
    "    x = []\n",
    "    y = []\n",
    "    with open(filename,'r') as csvfile:\n",
    "        lines = csv.reader(csvfile, delimiter=',')\n",
    "        for row in lines:\n",
    "            x.append(row[0])\n",
    "            y.append(float(row[1]))\n",
    "\n",
    "    plt.plot(x, y, color = 'g', linestyle = 'dashed',\n",
    "         marker = 'o',label = \"AcceptMagnets\")\n",
    "  \n",
    "    plt.xticks(rotation = 25)\n",
    "    plt.xlabel('step')\n",
    "    plt.ylabel('acceptRatio')\n",
    "    plt.title('Accept magnets', fontsize = 20)\n",
    "    plt.grid()\n",
    "    plt.legend()\n",
    "    plt.show()"
   ]
  },
  {
   "cell_type": "code",
   "execution_count": null,
   "id": "522cde24",
   "metadata": {},
   "outputs": [],
   "source": [
    "def plotMagnet(filename):\n",
    "    x = []\n",
    "    y = []\n",
    "    with open(filename,'r') as csvfile:\n",
    "        lines = csv.reader(csvfile, delimiter=',')\n",
    "        for row in lines:\n",
    "            x.append(row[0])\n",
    "            y.append(float(row[1]))\n",
    "\n",
    "    plt.plot(x, y, color = 'g', linestyle = 'dashed',\n",
    "         marker = 'o',label = \"ChangeMagnets\")\n",
    "  \n",
    "    plt.xticks(rotation = 25)\n",
    "    plt.xlabel('step')\n",
    "    plt.ylabel('magnetChange')\n",
    "    plt.title('Accept magnets', fontsize = 20)\n",
    "    plt.grid()\n",
    "    plt.legend()\n",
    "    plt.show()"
   ]
  }
 ],
 "metadata": {
  "kernelspec": {
   "display_name": "Python 3 (ipykernel)",
   "language": "python",
   "name": "python3"
  },
  "language_info": {
   "codemirror_mode": {
    "name": "ipython",
    "version": 3
   },
   "file_extension": ".py",
   "mimetype": "text/x-python",
   "name": "python",
   "nbconvert_exporter": "python",
   "pygments_lexer": "ipython3",
   "version": "3.9.13"
  }
 },
 "nbformat": 4,
 "nbformat_minor": 5
}
